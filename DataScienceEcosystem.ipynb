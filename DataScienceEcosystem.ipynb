{
 "cells": [
  {
   "cell_type": "markdown",
   "id": "8363da5b-37b0-4539-a1f8-711c633dc0af",
   "metadata": {},
   "source": [
    "# Data Science Tools and Ecosystem"
   ]
  },
  {
   "cell_type": "markdown",
   "id": "9ff23da2-6030-4ef3-9cea-defbc349d21d",
   "metadata": {},
   "source": [
    "In this notebook, Data Science Tools and Ecosystem are summarized."
   ]
  },
  {
   "cell_type": "markdown",
   "id": "fec4f61e-f458-48e6-bbf1-add47f6f4654",
   "metadata": {},
   "source": [
    "Some of the popular languages that Data Scientists use are:\n",
    "\n",
    "1. Python\n",
    "2. R\n",
    "3. Julia\n",
    "4. SQL (Structured Query Language)"
   ]
  },
  {
   "cell_type": "markdown",
   "id": "f0b99fd9-70da-4e88-8031-31c81893c9a3",
   "metadata": {},
   "source": [
    "Some of the commonly used libraries used by Data Scientists include:\n",
    "\n",
    "* Python:\n",
    "1. Pandas\n",
    "2. NumPy\n",
    "3. MatPlotlib\n",
    "4. TensorFlow\n",
    "\n",
    "* R:\n",
    "1. ggplot2\n",
    "\n",
    "* Scala:\n",
    "1. Vegas\n",
    "2. BigDL"
   ]
  },
  {
   "cell_type": "markdown",
   "id": "2f5208ad-c2d9-496f-a7eb-3ada3ff1bf81",
   "metadata": {},
   "source": [
    "| Data Science Tools |\n",
    "| ------------------ |\n",
    "| Jupyter |\n",
    "| Apache Zeppelin |\n",
    "| Rstudio |"
   ]
  },
  {
   "cell_type": "markdown",
   "id": "50950186-1a71-4539-a56d-4be2908f5d58",
   "metadata": {},
   "source": [
    "### Below are a few examples of evaluating arithmetic expressions in Python:\n",
    "\n",
    "* 5 + 3\n",
    "  \n",
    "* 20 / 5\n",
    "  \n",
    "* a = 10\n",
    "  b = 5\n",
    "  result = a + b * 2\n",
    "  \n",
    "* (10 + 5) * 2"
   ]
  },
  {
   "cell_type": "code",
   "execution_count": 3,
   "id": "390f0499-a8ba-42ee-85ce-cc435531d0af",
   "metadata": {},
   "outputs": [
    {
     "data": {
      "text/plain": [
       "17"
      ]
     },
     "execution_count": 3,
     "metadata": {},
     "output_type": "execute_result"
    }
   ],
   "source": [
    "# This cell demonstrates simple arithmetic expression involving addition and multiplication.\n",
    "\n",
    "(3*4)+5"
   ]
  },
  {
   "cell_type": "code",
   "execution_count": 5,
   "id": "5ccb8f76-d944-4bb2-8aa7-c5b0eb26e416",
   "metadata": {},
   "outputs": [
    {
     "name": "stdout",
     "output_type": "stream",
     "text": [
      "3.33\n"
     ]
    }
   ],
   "source": [
    "# This cell contains code to convert 200 hours to minutes by dividing 200 hours by 60.\n",
    "\n",
    "hours = 200\n",
    "minutes = 200/60\n",
    "print(round(minutes, 2))"
   ]
  },
  {
   "cell_type": "markdown",
   "id": "c1d1366d-4fe7-45b1-a930-f5dbddbed0d8",
   "metadata": {},
   "source": [
    "**Objectives:**\n",
    "\n",
    "* List popular Data Science tools\n",
    "* List popular Data Science languages\n",
    "* List popular Data Science libraries\n",
    "* Demonstrate simple arithmetic expression"
   ]
  },
  {
   "cell_type": "markdown",
   "id": "1fc7df5e-5f6e-436d-888e-3a8d284a5cda",
   "metadata": {},
   "source": [
    "## Author\n",
    "\n",
    "Tanishq Verma"
   ]
  },
  {
   "cell_type": "code",
   "execution_count": null,
   "id": "0d7b4882-ed38-4ede-8777-48f821e1d239",
   "metadata": {},
   "outputs": [],
   "source": []
  }
 ],
 "metadata": {
  "kernelspec": {
   "display_name": "Python 3 (ipykernel)",
   "language": "python",
   "name": "python3"
  },
  "language_info": {
   "codemirror_mode": {
    "name": "ipython",
    "version": 3
   },
   "file_extension": ".py",
   "mimetype": "text/x-python",
   "name": "python",
   "nbconvert_exporter": "python",
   "pygments_lexer": "ipython3",
   "version": "3.13.1"
  }
 },
 "nbformat": 4,
 "nbformat_minor": 5
}
